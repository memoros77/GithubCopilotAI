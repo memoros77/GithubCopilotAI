{
 "cells": [
  {
   "attachments": {},
   "cell_type": "markdown",
   "metadata": {},
   "source": [
    "# Computer Vision Fundamentals\n",
    "\n",
    "By using the provided questions, we can leverage GitHub Copilot's assistance in answering (and learning) the topic at hand. Pressing `ENTER` at the end of each question, followed by pressing the `Tab` key once the CoPilot suggestion pops up, will carry out the demo as shown in the videos."
   ]
  },
  {
   "attachments": {},
   "cell_type": "markdown",
   "metadata": {},
   "source": [
    "### What is Computer Vision?    "
   ]
  },
  {
   "cell_type": "code",
   "execution_count": null,
   "metadata": {},
   "outputs": [],
   "source": [
    "#Q: What is a basic definition of Computer Vision?\n",
    "#a: Computer Vision is the field of study that seeks to develop techniques to help computers “see” and understand the content of digital images such as photographs and videos.\n",
    "\n",
    "#Q: And how are machine learning and AI used in Computer Vision?\n",
    "#a: Machine learning and AI are used in Computer Vision to build systems that can automatically extract useful information from digital images and videos.\n",
    "\n",
    "#Q: What machine learning structure is most commonly used in Computer Vision?\n",
    "#a: Convolutional Neural Networks (CNNs) are the most commonly used machine learning structure in Computer Vision."
   ]
  },
  {
   "attachments": {},
   "cell_type": "markdown",
   "metadata": {},
   "source": [
    "### What is a Neural Network?"
   ]
  },
  {
   "cell_type": "code",
   "execution_count": null,
   "metadata": {},
   "outputs": [],
   "source": [
    "#Q: What is a Neural Network?\n",
    "#a: A Neural Network is a machine learning structure that is inspired by the structure of the human brain. It is composed of a large number of highly interconnected processing elements (neurons) working in unison to solve specific problems.\n",
    "\n",
    "#Q: What differentiates a convolutional neural network from a regular neural network?\n",
    "#a: A convolutional neural network is a type of neural network that is composed of one or more convolutional layers. Convolutional layers are different from regular layers in that they apply a convolution operation to the input, passing the result to the next layer.\n",
    "\n",
    "#Q: What tools are most commonly used to work with Convolutional Neural Networks?\n",
    "#a: The most commonly used tools to work with Convolutional Neural Networks are Keras and TensorFlow."
   ]
  },
  {
   "attachments": {},
   "cell_type": "markdown",
   "metadata": {},
   "source": [
    "### PyTorch"
   ]
  },
  {
   "cell_type": "code",
   "execution_count": null,
   "metadata": {},
   "outputs": [],
   "source": [
    "#Q What is PyTorch?\n",
    "#a: PyTorch is a Python-based scientific computing package that is similar to NumPy, but with the added power of GPUs.\n",
    "\n",
    "#Q: What is a tensor?\n",
    "#a: A tensor is a generalization of vectors and matrices to potentially higher dimensions. Internally, PyTorch represents tensors as n-dimensional memory blocks.\n",
    "\n",
    "#Q: What is the difference between a tensor and pytorch?\n",
    "#a: PyTorch is a Python-based scientific computing package that is similar to NumPy, but with the added power of GPUs. A tensor is a generalization of vectors and matrices to potentially higher dimensions. Internally, PyTorch represents tensors as n-dimensional memory blocks."
   ]
  }
 ],
 "metadata": {
  "language_info": {
   "name": "python"
  },
  "orig_nbformat": 4
 },
 "nbformat": 4,
 "nbformat_minor": 2
}
