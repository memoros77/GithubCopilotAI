{
 "cells": [
  {
   "attachments": {},
   "cell_type": "markdown",
   "metadata": {},
   "source": [
    "## Machine Learning Fundamentals\n",
    "\n",
    "By using the provided questions, we can leverage GitHub Copilot's assistance in answering (and learning) the topic at hand. Pressing `ENTER` at the end of each question, followed by pressing the `Tab` key once the CoPilot suggestion pops up, will carry out the demo as shown in the videos."
   ]
  },
  {
   "cell_type": "code",
   "execution_count": 1,
   "metadata": {},
   "outputs": [],
   "source": [
    "# q: What is Machine Learning?\n",
    "# a: Machine Learning is the science (and art) of programming computers so they can learn from data."
   ]
  },
  {
   "attachments": {},
   "cell_type": "markdown",
   "metadata": {},
   "source": [
    "### Supervised Learning"
   ]
  },
  {
   "cell_type": "code",
   "execution_count": null,
   "metadata": {},
   "outputs": [],
   "source": [
    "# q: What is Supervised Learning?\n",
    "# a: Supervised Learning is the most common type of ML. It is where the training data you feed to the algorithm includes the desired solutions, called labels."
   ]
  },
  {
   "cell_type": "code",
   "execution_count": null,
   "metadata": {},
   "outputs": [],
   "source": [
    "# q: What are examples of Supervised Learning?\n",
    "# a: Some examples of Supervised Learning are:\n",
    "# - Classification: Spam filter\n",
    "# - Regression: Predicting housing prices\n",
    "# - Classification: Detecting tumors in MRI scans"
   ]
  },
  {
   "attachments": {},
   "cell_type": "markdown",
   "metadata": {},
   "source": [
    "### Training a model"
   ]
  },
  {
   "cell_type": "code",
   "execution_count": null,
   "metadata": {},
   "outputs": [],
   "source": [
    "# q: What is a Label and a Feature?\n",
    "# a: A label is the desired solution, and a feature is a property used to predict the label.\n",
    "# - For example, in the housing price example, the features would be the number of bedrooms, the median income, the proximity to various stores and restaurants, etc.\n",
    "# - The label would be the price of the house.\n",
    "# - The training data would be a bunch of houses with their features and their labels. \n",
    "# - The algorithm would learn to predict the labels given the features."
   ]
  },
  {
   "cell_type": "code",
   "execution_count": null,
   "metadata": {},
   "outputs": [],
   "source": [
    "# q: What is a training and a test set?\n",
    "# a: A training set is the data that the algorithm is trained on. A test set is the data that the algorithm is tested on.\n",
    "# - The test set is used to evaluate the performance of the algorithm.\n",
    "# - The training set is used to train the algorithm.\n",
    "# q: How can evaluation be done?\n",
    "# a: Evaluation can be done by using a performance measure. For example, the Root Mean Square Error (RMSE) is a common performance measure for regression problems.\n",
    "# - The RMSE is the square root of the mean of the squared errors.\n",
    "# - The squared error is the difference between the predicted value and the actual value.   \n",
    "# - The RMSE is a measure of how much the predicted values deviate from the actual values.\n",
    "# - The lower the RMSE, the better the performance of the algorithm.\n",
    "# - The RMSE is given by the following formula:\n",
    "# $$RMSE(X, h) = \\sqrt{\\frac{1}{m}\\sum_{i=1}^{m}(h(x^{(i)}) - y^{(i)})^2}$$ \n",
    "# enunmerate the parts of the formula\n",
    "# - $m$ is the number of instances in the dataset you are measuring the RMSE on.\n",
    "# - $x^{(i)}$ is a vector of all the feature values (excluding the label) of the $i^{th}$ instance in the dataset.\n",
    "# - $y^{(i)}$ is the label of the $i^{th}$ instance in the dataset.\n",
    "# - $X$ is a matrix containing all the feature values (excluding the labels) of all the instances in the dataset.\n",
    "# - $h$ is the system's prediction function, also called a hypothesis."
   ]
  },
  {
   "attachments": {},
   "cell_type": "markdown",
   "metadata": {},
   "source": [
    "### Evaluating a model"
   ]
  },
  {
   "cell_type": "code",
   "execution_count": null,
   "metadata": {},
   "outputs": [],
   "source": [
    "# q: What does it mean to evaluate a model?\n",
    "# a: Evaluating a model means to test the model on the test set and measure its performance."
   ]
  }
 ],
 "metadata": {
  "kernelspec": {
   "display_name": "venv",
   "language": "python",
   "name": "python3"
  },
  "language_info": {
   "codemirror_mode": {
    "name": "ipython",
    "version": 3
   },
   "file_extension": ".py",
   "mimetype": "text/x-python",
   "name": "python",
   "nbconvert_exporter": "python",
   "pygments_lexer": "ipython3",
   "version": "3.8.16"
  },
  "orig_nbformat": 4
 },
 "nbformat": 4,
 "nbformat_minor": 2
}
